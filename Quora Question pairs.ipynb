{
 "cells": [
  {
   "cell_type": "code",
   "execution_count": 1,
   "id": "3102f765-e4c7-48c1-a3f1-b557d626880e",
   "metadata": {},
   "outputs": [],
   "source": [
    "import numpy as np\n",
    "import pandas as pd"
   ]
  },
  {
   "cell_type": "code",
   "execution_count": 2,
   "id": "d575a640-587f-4041-8e46-7535c107a8c8",
   "metadata": {},
   "outputs": [],
   "source": [
    "df=pd.read_csv(\"train.csv\")"
   ]
  },
  {
   "cell_type": "code",
   "execution_count": 3,
   "id": "4f9c6262-8193-4c1f-899a-058e93ae113b",
   "metadata": {},
   "outputs": [
    {
     "data": {
      "text/plain": [
       "(404290, 6)"
      ]
     },
     "execution_count": 3,
     "metadata": {},
     "output_type": "execute_result"
    }
   ],
   "source": [
    "df.shape"
   ]
  },
  {
   "cell_type": "code",
   "execution_count": 19,
   "id": "574ac352-de8f-4b64-9a76-48aa1e950aa5",
   "metadata": {},
   "outputs": [
    {
     "data": {
      "text/html": [
       "<div>\n",
       "<style scoped>\n",
       "    .dataframe tbody tr th:only-of-type {\n",
       "        vertical-align: middle;\n",
       "    }\n",
       "\n",
       "    .dataframe tbody tr th {\n",
       "        vertical-align: top;\n",
       "    }\n",
       "\n",
       "    .dataframe thead th {\n",
       "        text-align: right;\n",
       "    }\n",
       "</style>\n",
       "<table border=\"1\" class=\"dataframe\">\n",
       "  <thead>\n",
       "    <tr style=\"text-align: right;\">\n",
       "      <th></th>\n",
       "      <th>id</th>\n",
       "      <th>qid1</th>\n",
       "      <th>qid2</th>\n",
       "      <th>question1</th>\n",
       "      <th>question2</th>\n",
       "      <th>is_duplicate</th>\n",
       "    </tr>\n",
       "  </thead>\n",
       "  <tbody>\n",
       "    <tr>\n",
       "      <th>217380</th>\n",
       "      <td>217380</td>\n",
       "      <td>28057</td>\n",
       "      <td>37791</td>\n",
       "      <td>Why is the northeast part of India called Seve...</td>\n",
       "      <td>Why is India called a subcontinent?</td>\n",
       "      <td>0</td>\n",
       "    </tr>\n",
       "    <tr>\n",
       "      <th>263588</th>\n",
       "      <td>263588</td>\n",
       "      <td>380162</td>\n",
       "      <td>306661</td>\n",
       "      <td>What is the best way to apply for jury duty?</td>\n",
       "      <td>How can you request jury duty?</td>\n",
       "      <td>1</td>\n",
       "    </tr>\n",
       "    <tr>\n",
       "      <th>59112</th>\n",
       "      <td>59112</td>\n",
       "      <td>103592</td>\n",
       "      <td>103593</td>\n",
       "      <td>How long will I take to recover from jaundice ?</td>\n",
       "      <td>How much time does it take to recover from jau...</td>\n",
       "      <td>1</td>\n",
       "    </tr>\n",
       "    <tr>\n",
       "      <th>228134</th>\n",
       "      <td>228134</td>\n",
       "      <td>149480</td>\n",
       "      <td>337140</td>\n",
       "      <td>How can I learn seo?</td>\n",
       "      <td>How do I learn SEO basic?</td>\n",
       "      <td>0</td>\n",
       "    </tr>\n",
       "    <tr>\n",
       "      <th>279741</th>\n",
       "      <td>279741</td>\n",
       "      <td>6494</td>\n",
       "      <td>186961</td>\n",
       "      <td>How can one overcome the fear of speaking in p...</td>\n",
       "      <td>How can I overcome my fear of public speaking?</td>\n",
       "      <td>1</td>\n",
       "    </tr>\n",
       "  </tbody>\n",
       "</table>\n",
       "</div>"
      ],
      "text/plain": [
       "            id    qid1    qid2  \\\n",
       "217380  217380   28057   37791   \n",
       "263588  263588  380162  306661   \n",
       "59112    59112  103592  103593   \n",
       "228134  228134  149480  337140   \n",
       "279741  279741    6494  186961   \n",
       "\n",
       "                                                question1  \\\n",
       "217380  Why is the northeast part of India called Seve...   \n",
       "263588       What is the best way to apply for jury duty?   \n",
       "59112     How long will I take to recover from jaundice ?   \n",
       "228134                               How can I learn seo?   \n",
       "279741  How can one overcome the fear of speaking in p...   \n",
       "\n",
       "                                                question2  is_duplicate  \n",
       "217380                Why is India called a subcontinent?             0  \n",
       "263588                     How can you request jury duty?             1  \n",
       "59112   How much time does it take to recover from jau...             1  \n",
       "228134                          How do I learn SEO basic?             0  \n",
       "279741     How can I overcome my fear of public speaking?             1  "
      ]
     },
     "execution_count": 19,
     "metadata": {},
     "output_type": "execute_result"
    }
   ],
   "source": [
    "df.sample(5)"
   ]
  },
  {
   "cell_type": "code",
   "execution_count": 21,
   "id": "340297b6-be0f-4721-969a-f5fa605f9e0d",
   "metadata": {},
   "outputs": [
    {
     "data": {
      "text/plain": [
       "'How can one overcome the fear of speaking in public?'"
      ]
     },
     "execution_count": 21,
     "metadata": {},
     "output_type": "execute_result"
    }
   ],
   "source": [
    "df[\"question1\"][279741]\n"
   ]
  },
  {
   "cell_type": "code",
   "execution_count": 23,
   "id": "11a9d746-5642-464e-82c7-8e2c0f5d3c0f",
   "metadata": {},
   "outputs": [
    {
     "data": {
      "text/plain": [
       "'How can I overcome my fear of public speaking?'"
      ]
     },
     "execution_count": 23,
     "metadata": {},
     "output_type": "execute_result"
    }
   ],
   "source": [
    "df[\"question2\"][279741]"
   ]
  },
  {
   "cell_type": "code",
   "execution_count": 5,
   "id": "67645b2f-6a1c-4613-a18e-d8528165dd31",
   "metadata": {},
   "outputs": [
    {
     "name": "stdout",
     "output_type": "stream",
     "text": [
      "<class 'pandas.core.frame.DataFrame'>\n",
      "RangeIndex: 404290 entries, 0 to 404289\n",
      "Data columns (total 6 columns):\n",
      " #   Column        Non-Null Count   Dtype \n",
      "---  ------        --------------   ----- \n",
      " 0   id            404290 non-null  int64 \n",
      " 1   qid1          404290 non-null  int64 \n",
      " 2   qid2          404290 non-null  int64 \n",
      " 3   question1     404289 non-null  object\n",
      " 4   question2     404288 non-null  object\n",
      " 5   is_duplicate  404290 non-null  int64 \n",
      "dtypes: int64(4), object(2)\n",
      "memory usage: 18.5+ MB\n"
     ]
    }
   ],
   "source": [
    "df.info()"
   ]
  },
  {
   "cell_type": "code",
   "execution_count": 6,
   "id": "67f1290b-a588-4f04-90ac-cb0459d37766",
   "metadata": {},
   "outputs": [
    {
     "data": {
      "text/plain": [
       "id              0\n",
       "qid1            0\n",
       "qid2            0\n",
       "question1       1\n",
       "question2       2\n",
       "is_duplicate    0\n",
       "dtype: int64"
      ]
     },
     "execution_count": 6,
     "metadata": {},
     "output_type": "execute_result"
    }
   ],
   "source": [
    "df.isnull().sum()"
   ]
  },
  {
   "cell_type": "code",
   "execution_count": 7,
   "id": "a0e182fe-d5f3-4c38-b716-6dbd6a2c301d",
   "metadata": {},
   "outputs": [],
   "source": [
    "# removing missing values:\n",
    "df.dropna(inplace=True)"
   ]
  },
  {
   "cell_type": "code",
   "execution_count": 8,
   "id": "69cbdf81-a53b-46c7-8fb8-9eb36a083ca7",
   "metadata": {},
   "outputs": [
    {
     "data": {
      "text/plain": [
       "id              0\n",
       "qid1            0\n",
       "qid2            0\n",
       "question1       0\n",
       "question2       0\n",
       "is_duplicate    0\n",
       "dtype: int64"
      ]
     },
     "execution_count": 8,
     "metadata": {},
     "output_type": "execute_result"
    }
   ],
   "source": [
    "df.isnull().sum()"
   ]
  },
  {
   "cell_type": "code",
   "execution_count": 9,
   "id": "c30ad0e9-73cc-4894-866d-e50d6f56e172",
   "metadata": {},
   "outputs": [
    {
     "data": {
      "text/plain": [
       "0"
      ]
     },
     "execution_count": 9,
     "metadata": {},
     "output_type": "execute_result"
    }
   ],
   "source": [
    "df.duplicated().sum()"
   ]
  },
  {
   "cell_type": "code",
   "execution_count": 10,
   "id": "49bddab9-e7e6-41e2-83e3-7250aa58d5a4",
   "metadata": {},
   "outputs": [
    {
     "name": "stdout",
     "output_type": "stream",
     "text": [
      "is_duplicate\n",
      "0    255024\n",
      "1    149263\n",
      "Name: count, dtype: int64\n",
      "is_duplicate\n",
      "0    63.079941\n",
      "1    36.920059\n",
      "Name: count, dtype: float64\n"
     ]
    }
   ],
   "source": [
    "print(df.is_duplicate.value_counts())\n",
    "print(df.is_duplicate.value_counts()/df.is_duplicate.count()*100)\n"
   ]
  },
  {
   "cell_type": "code",
   "execution_count": 48,
   "id": "29d561ee-60b2-4414-9dbe-451a0388c966",
   "metadata": {},
   "outputs": [
    {
     "data": {
      "image/png": "[encoded data removed]",
      "text/plain": [
       "<Figure size 640x480 with 1 Axes>"
      ]
     },
     "metadata": {},
     "output_type": "display_data"
    }
   ],
   "source": [
    "import seaborn as sns\n",
    "import matplotlib.pyplot as plt\n",
    "\n",
    "sns.countplot(x='is_duplicate', data=df)\n",
    "plt.title(\"Distribution of is_duplicate\")\n",
    "plt.show()"
   ]
  },
  {
   "cell_type": "code",
   "execution_count": 124,
   "id": "47e15c64-8b6a-4b27-bd30-007ce8193795",
   "metadata": {},
   "outputs": [
    {
     "name": "stdout",
     "output_type": "stream",
     "text": [
      "Total questions in dataset: 808574\n",
      "Total unique questions: 537359\n",
      "Questions that appeared only once: 425489\n",
      "Questions that appeared more than once: 111870\n"
     ]
    }
   ],
   "source": [
    "# To find repeated questions:\n",
    "all_questions=pd.concat([df.question1,df.question2],ignore_index=True)\n",
    "\n",
    "question_counts=all_questions.value_counts()\n",
    "\n",
    "total_questions=all_questions.shape[0]\n",
    "\n",
    "unique_questions=all_questions.nunique()\n",
    "\n",
    "repeated_questions=(question_counts>1).sum()\n",
    "\n",
    "question_appeared_once=(question_counts==1).sum()\n",
    "\n",
    "\n",
    "print(f\"Total questions in dataset: {total_questions}\")\n",
    "print(f\"Total unique questions: {unique_questions}\")\n",
    "print(f\"Questions that appeared only once: {question_appeared_once}\")\n",
    "print(f\"Questions that appeared more than once: {repeated_questions}\")"
   ]
  },
  {
   "cell_type": "code",
   "execution_count": 152,
   "id": "2b8ac9ae-63d3-4139-b03e-9348b85d7a26",
   "metadata": {},
   "outputs": [
    {
     "data": {
      "image/png": "[encoded data removed]",
      "text/plain": [
       "<Figure size 1000x600 with 1 Axes>"
      ]
     },
     "metadata": {},
     "output_type": "display_data"
    }
   ],
   "source": [
    "plt.figure(figsize=(10,6))\n",
    "sns.histplot(x=question_counts, bins=160, discrete=True)\n",
    "plt.title(\"Distribution of Question Frequencies\")\n",
    "plt.xlabel(\"Number of Times Questions appears\")\n",
    "plt.ylabel(\"Number of Questions\")\n",
    "plt.yscale('log')\n",
    "plt.grid(True)"
   ]
  },
  {
   "cell_type": "code",
   "execution_count": 112,
   "id": "108e73b3-45a8-4c8b-bc68-119ff85e678b",
   "metadata": {},
   "outputs": [
    {
     "data": {
      "text/plain": [
       "425489"
      ]
     },
     "execution_count": 112,
     "metadata": {},
     "output_type": "execute_result"
    }
   ],
   "source": []
  },
  {
   "cell_type": "code",
   "execution_count": null,
   "id": "7cda5683-0fc2-431b-9367-0aa548752561",
   "metadata": {},
   "outputs": [],
   "source": []
  },
  {
   "cell_type": "code",
   "execution_count": null,
   "id": "908824bc-cf6c-4750-99b6-5797f2645c39",
   "metadata": {},
   "outputs": [],
   "source": []
  },
  {
   "cell_type": "code",
   "execution_count": null,
   "id": "39a2497b-e79e-4313-8ffa-6d68e2ddfa82",
   "metadata": {},
   "outputs": [],
   "source": []
  },
  {
   "cell_type": "code",
   "execution_count": null,
   "id": "f52f5e54-2227-44a0-b4b0-54b3fc759b7f",
   "metadata": {},
   "outputs": [],
   "source": []
  }
 ],
 "metadata": {
  "kernelspec": {
   "display_name": "Python 3 (ipykernel)",
   "language": "python",
   "name": "python3"
  },
  "language_info": {
   "codemirror_mode": {
    "name": "ipython",
    "version": 3
   },
   "file_extension": ".py",
   "mimetype": "text/x-python",
   "name": "python",
   "nbconvert_exporter": "python",
   "pygments_lexer": "ipython3",
   "version": "3.12.7"
  }
 },
 "nbformat": 4,
 "nbformat_minor": 5
}
